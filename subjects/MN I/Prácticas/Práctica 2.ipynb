{
 "cells": [
  {
   "cell_type": "markdown",
   "id": "b78943f0",
   "metadata": {},
   "source": [
    "# Práctica 2. Resolución de SEL.\n",
    "\n",
    "**Autor:** Arturo Olivares Martos\n",
    "***\n",
    "\n",
    "- **Asignatura:** Métodos Numéricos I.\n",
    "- **Curso Académico:** 2022-23.\n",
    "- **Grado:** Doble Grado en Ingeniería Informática y Matemáticas.\n",
    "- **Grupo:** Único.\n",
    "- **Profesor:** Lidia Fernández Rodríguez.\n",
    "- **Descripción:** Práctica 2 de la asignatura Métodos Numéricos I. Resolución de sistemas de ecuaciones lineales (SEL) mediante métodos directos y métodos iterativos.\n",
    "<!--- **Fecha:** 17 de abril de 2023. -->\n",
    "<!-- - **Duración:** -->"
   ]
  },
  {
   "cell_type": "markdown",
   "id": "71c75cd6",
   "metadata": {},
   "source": [
    "## Ejercicio 1\n",
    "\n",
    "Escribe una función que resuelva por sustitución progresiva un sistema en el que la matriz de coeﬁcientes es\n",
    "triangular inferior. Comprueba que se obtiene el mismo resultado utilizando dicha función que mediante la función\n",
    "`solve` del módulo `linalg` de Python si lo aplicamos a las matrices siguientes:\n",
    "$$\n",
    "    A=\\begin{pmatrix}\n",
    "        1 & 0 & 0 \\\\\n",
    "        2 & 2 & 0 \\\\\n",
    "        3 & 1 & 5 \\\\\n",
    "    \\end{pmatrix}\n",
    "    \\qquad\n",
    "    b=\\begin{pmatrix}\n",
    "        2 & 5 & 1 \\\\\n",
    "    \\end{pmatrix}.\n",
    "$$"
   ]
  },
  {
   "cell_type": "code",
   "execution_count": 1,
   "id": "18dad1f5",
   "metadata": {},
   "outputs": [],
   "source": [
    "import numpy as np\n",
    "import math"
   ]
  },
  {
   "cell_type": "code",
   "execution_count": 2,
   "id": "16721847",
   "metadata": {},
   "outputs": [],
   "source": [
    "A = np.array([[1,0,0], [2,2,0], [3,1,5]])\n",
    "b = np.array([2,5,1])"
   ]
  },
  {
   "cell_type": "code",
   "execution_count": 3,
   "id": "6a3abcd8",
   "metadata": {},
   "outputs": [],
   "source": [
    "def sust_progresiva(A,b):\n",
    "    \n",
    "    n = np.size(b)\n",
    "    x = np.zeros(n)\n",
    "    \n",
    "    \n",
    "    for i in range(0,n):\n",
    "        x[i] = (b[i]-np.dot(A[i,:i], x[:i])) / A[i,i]\n",
    "        \n",
    "    return x"
   ]
  },
  {
   "cell_type": "code",
   "execution_count": 4,
   "id": "b5f339db",
   "metadata": {},
   "outputs": [
    {
     "data": {
      "text/plain": [
       "array([ 2. ,  0.5, -1.1])"
      ]
     },
     "execution_count": 4,
     "metadata": {},
     "output_type": "execute_result"
    }
   ],
   "source": [
    "sust_progresiva(A,b)"
   ]
  },
  {
   "cell_type": "code",
   "execution_count": 5,
   "id": "c65954f2",
   "metadata": {},
   "outputs": [
    {
     "data": {
      "text/plain": [
       "array([ 2. ,  0.5, -1.1])"
      ]
     },
     "execution_count": 5,
     "metadata": {},
     "output_type": "execute_result"
    }
   ],
   "source": [
    "np.linalg.solve(A, b)"
   ]
  },
  {
   "cell_type": "markdown",
   "id": "71810c12",
   "metadata": {},
   "source": [
    "## Ejercicio 2\n",
    "Crea un array `B` de Numpy de 20 ﬁlas y 20 columnas de manera que el elemento $(i, j)$ sea $i + j$ para $1 \\leq i,~j \\leq 20$.\n",
    "Ten en cuenta que las ﬁlas y columnas se numeran a partir de 1 pero en Python la numeración empieza en 0.\n",
    "El primer elemento del array debe ser 2. Crea ahora otro array $A = B + 10\\cdot I_{20}$, donde $I_{20}$ representa la matriz\n",
    "identidad de orden 20.\n",
    "\n",
    "Crea un vector `b` de 20 elementos todos iguales a 10.\n",
    "\n",
    "Resuelve el sistema $Ax=b$ usando la función `solve` del módulo `linalg` de Python."
   ]
  },
  {
   "cell_type": "code",
   "execution_count": 6,
   "id": "e5259a12",
   "metadata": {},
   "outputs": [],
   "source": [
    "num_fils = 20\n",
    "\n",
    "A = np.array([[((i+j+2)) for j in range(num_fils)] for i in range(num_fils)]) + 10*np.eye(num_fils)\n",
    "\n",
    "termino_independiente = 10\n",
    "b = np.array([termino_independiente for i in range(num_fils)])"
   ]
  },
  {
   "cell_type": "code",
   "execution_count": 7,
   "id": "77c212b9",
   "metadata": {},
   "outputs": [
    {
     "data": {
      "text/plain": [
       "array([-2.22222222e-01, -2.00000000e-01, -1.77777778e-01, -1.55555556e-01,\n",
       "       -1.33333333e-01, -1.11111111e-01, -8.88888889e-02, -6.66666667e-02,\n",
       "       -4.44444444e-02, -2.22222222e-02,  6.22107729e-18,  2.22222222e-02,\n",
       "        4.44444444e-02,  6.66666667e-02,  8.88888889e-02,  1.11111111e-01,\n",
       "        1.33333333e-01,  1.55555556e-01,  1.77777778e-01,  2.00000000e-01])"
      ]
     },
     "execution_count": 7,
     "metadata": {},
     "output_type": "execute_result"
    }
   ],
   "source": [
    "np.linalg.solve(A, b)"
   ]
  },
  {
   "cell_type": "markdown",
   "id": "ecb1dac7",
   "metadata": {},
   "source": [
    "## Ejercicio 3\n",
    "\n",
    "Modiﬁca el código del método de Gauss de la práctica 1 y haz uno que resuelve un sistema utilizando Gauss con\n",
    "pivotaje parcial. Utilízalo para resolver el sistema del ejercicio 2."
   ]
  },
  {
   "cell_type": "code",
   "execution_count": 8,
   "id": "aec7f305",
   "metadata": {},
   "outputs": [],
   "source": [
    "def sust_regresiva(A,b):\n",
    "    \"\"\"\n",
    "    Esta función resuelve el sistema Ax=b mediante sustitución regresiva. \n",
    "    A y b deben ser arrays de numpy. \n",
    "    A debe ser una matriz triangular superior.\n",
    "    \"\"\"\n",
    "    # A=A.astype(float)     # Con esto se cambian los elementos a tipo flotante pero no es necesario\n",
    "    # b=b.astype(float) \n",
    "    n=np.size(b)\n",
    "    x=np.zeros(n)         # almacenaremos aquí la solución del sistema\n",
    "                       \n",
    "    # ahora se resuelve el sistema por sustitución regresiva\n",
    "    for i in range(n-1,-1,-1):     \n",
    "        x[i]=(b[i]-np.dot(A[i][i+1:],x[i+1:]))/A[i,i]\n",
    "                \n",
    "    return x\n",
    "\n",
    "def Gauss_Parcial(A,b):\n",
    "    \n",
    "    bb=(np.array([b]).transpose()).astype(float) \n",
    "    Ab=np.concatenate((A,bb),axis=1)\n",
    "    n=np.size(b)\n",
    "    \n",
    "    # aquí se hacen operaciones por filas en la matriz para conseguir una triangular\n",
    "    for i in range(n):\n",
    "        \n",
    "        # Primero localizamos el máximo del valor absoluto de la columna\n",
    "        fil_max = np.argmax(abs(A[i:,i]))\n",
    "        Ab[[i,fil_max+i]] = Ab[[fil_max+i,i]]\n",
    "        \n",
    "        for j in range(i+1,n):\n",
    "            m=Ab[j,i]/Ab[i,i]\n",
    "            Ab[j]=Ab[j]-m*Ab[i]\n",
    "            \n",
    "    # Ahora se resuelve el sistema por sustitución regresiva\n",
    "    AG=Ab[:,:n]\n",
    "    bG=Ab[:,n].transpose()\n",
    "    x=sust_regresiva(AG,bG)\n",
    "                \n",
    "    return x"
   ]
  },
  {
   "cell_type": "code",
   "execution_count": 10,
   "id": "b9529467",
   "metadata": {},
   "outputs": [
    {
     "data": {
      "text/plain": [
       "array([-2.22222222e-01, -2.00000000e-01, -1.77777778e-01, -1.55555556e-01,\n",
       "       -1.33333333e-01, -1.11111111e-01, -8.88888889e-02, -6.66666667e-02,\n",
       "       -4.44444444e-02, -2.22222222e-02,  2.36217665e-15,  2.22222222e-02,\n",
       "        4.44444444e-02,  6.66666667e-02,  8.88888889e-02,  1.11111111e-01,\n",
       "        1.33333333e-01,  1.55555556e-01,  1.77777778e-01,  2.00000000e-01])"
      ]
     },
     "execution_count": 10,
     "metadata": {},
     "output_type": "execute_result"
    }
   ],
   "source": [
    "Gauss_Parcial(A,b)"
   ]
  },
  {
   "cell_type": "markdown",
   "id": "2fcafafd",
   "metadata": {},
   "source": [
    "## Ejercicio 4\n",
    "\n",
    "Utilizando la descomposición LU dada en teoría y las sustituciones progresiva y regresiva, resuelve\n",
    "de nuevo el sistema del ejercicio 2."
   ]
  },
  {
   "cell_type": "code",
   "execution_count": 11,
   "id": "8c097d06",
   "metadata": {},
   "outputs": [],
   "source": [
    "def LU_desc(A):\n",
    "    \"\"\"\n",
    "    Esta función calcula la descomposición LU de Doolittle de una matriz A sin intercambio de filas.\n",
    "    A debe ser un array de Numpy.\n",
    "    \"\"\"\n",
    "    n=np.shape(A)[1]\n",
    "    U=np.zeros([n,n])\n",
    "    L=np.eye(n)\n",
    "    \n",
    "    for k in range(n-1):\n",
    "        U[k,k]=A[k,k]-np.dot(L[k,:k],U[:k,k])\n",
    "        for j in range(k+1,n):\n",
    "            U[k,j]=A[k,j]-np.dot(L[k,:k],U[:k,j])\n",
    "        for j in range(k+1):\n",
    "            L[k+1,j]=(A[k+1,j]-np.dot(L[k+1,:j],U[:j,j]))/U[j,j]\n",
    "    U[n-1,n-1]=A[n-1,n-1]-np.dot(L[n-1,:n-1],U[:n-1,n-1])\n",
    "    return L, U"
   ]
  },
  {
   "cell_type": "code",
   "execution_count": 12,
   "id": "4db3c952",
   "metadata": {},
   "outputs": [],
   "source": [
    "# Ax= b \\=>  LUx=b \\=> Ly=b.  Ux=y\n",
    "\n",
    "L, U = LU_desc(A)\n",
    "\n",
    "y = sust_progresiva(L,b)\n",
    "x = sust_regresiva (U,y)"
   ]
  },
  {
   "cell_type": "code",
   "execution_count": 13,
   "id": "39615097",
   "metadata": {},
   "outputs": [
    {
     "data": {
      "text/plain": [
       "array([-2.22222222e-01, -2.00000000e-01, -1.77777778e-01, -1.55555556e-01,\n",
       "       -1.33333333e-01, -1.11111111e-01, -8.88888889e-02, -6.66666667e-02,\n",
       "       -4.44444444e-02, -2.22222222e-02,  6.34413157e-16,  2.22222222e-02,\n",
       "        4.44444444e-02,  6.66666667e-02,  8.88888889e-02,  1.11111111e-01,\n",
       "        1.33333333e-01,  1.55555556e-01,  1.77777778e-01,  2.00000000e-01])"
      ]
     },
     "execution_count": 13,
     "metadata": {},
     "output_type": "execute_result"
    }
   ],
   "source": [
    "x"
   ]
  },
  {
   "cell_type": "markdown",
   "id": "32fc51fe",
   "metadata": {},
   "source": [
    "## Ejercicio 5\n",
    "\n",
    "Deﬁne una función que resuelva un sistema de ecuaciones lineales mediante la factorización de Cholesky. Comprueba\n",
    "su funcionamiento para intentar resolver el sistema $Ax = b$ donde $b = (2, −5, 1)$ en los casos:\n",
    "$$\n",
    "    A_1=\\begin{pmatrix}\n",
    "        2 & 4 & 1\\\\\n",
    "        4 & 10 & 1\\\\\n",
    "        1 & 1 & 5\\\\\n",
    "    \\end{pmatrix}\n",
    "    \\qquad\n",
    "    A_2=\\begin{pmatrix}\n",
    "        2 & 4 & 1\\\\\n",
    "        4 & 0 & 1\\\\\n",
    "        1 & 1 & 5\\\\\n",
    "    \\end{pmatrix}\n",
    "$$\n",
    "\n",
    "**No** se permite utilizar la función `linalg.cholesky` de `NumPy`. Hay que modiﬁcar el código de la factorización LU\n",
    "para deﬁnir una función que haga dicha factorización."
   ]
  },
  {
   "cell_type": "code",
   "execution_count": 14,
   "id": "3f6085ff",
   "metadata": {},
   "outputs": [],
   "source": [
    "def Cholesky_desc(A):\n",
    "    \"\"\"\n",
    "    Esta función calcula la descomposición de Cholesky de una matriz A sin intercambio de filas.\n",
    "    A debe ser un array de Numpy.\n",
    "    \"\"\"\n",
    "    n=np.shape(A)[1]\n",
    "    L=np.zeros([n,n])\n",
    "    \n",
    "    for k in range(n):\n",
    "        L[k,k]=math.sqrt(A[k,k]-np.dot(L[k,:k],L[k,:k]))\n",
    "        for j in range(k+1,n):\n",
    "            L[j,k]=(A[j,k]-np.dot(L[j,:k],L[k,:k]))/L[k,k]\n",
    "    return L, L.T"
   ]
  },
  {
   "cell_type": "code",
   "execution_count": 15,
   "id": "333e125a",
   "metadata": {},
   "outputs": [],
   "source": [
    "b_5 = np.array([2, -5, 1])"
   ]
  },
  {
   "cell_type": "code",
   "execution_count": 16,
   "id": "ef24026e",
   "metadata": {},
   "outputs": [],
   "source": [
    "A_5_1 = np.array([[2,4,1], [4,10,1], [1,1,5]])\n",
    "\n",
    "# Ax= b \\=>  LUx=b \\=> Ly=b.  Ux=y\n",
    "L_1, U_1 = Cholesky_desc(A_5_1)\n",
    "\n",
    "y_1 = sust_progresiva(L_1,b_5)\n",
    "x_1 = sust_regresiva (U_1,y_1)"
   ]
  },
  {
   "cell_type": "code",
   "execution_count": 17,
   "id": "96188278",
   "metadata": {},
   "outputs": [
    {
     "data": {
      "text/plain": [
       "array([11.6875, -5.0625, -1.125 ])"
      ]
     },
     "execution_count": 17,
     "metadata": {},
     "output_type": "execute_result"
    }
   ],
   "source": [
    "x_1"
   ]
  },
  {
   "cell_type": "code",
   "execution_count": 18,
   "id": "83b3ac75",
   "metadata": {},
   "outputs": [
    {
     "data": {
      "text/plain": [
       "array([11.6875, -5.0625, -1.125 ])"
      ]
     },
     "execution_count": 18,
     "metadata": {},
     "output_type": "execute_result"
    }
   ],
   "source": [
    "np.linalg.solve(A_5_1, b_5)"
   ]
  },
  {
   "cell_type": "code",
   "execution_count": 20,
   "id": "04349b4f",
   "metadata": {},
   "outputs": [
    {
     "ename": "ValueError",
     "evalue": "math domain error",
     "output_type": "error",
     "traceback": [
      "\u001b[0;31m---------------------------------------------------------------------------\u001b[0m",
      "\u001b[0;31mValueError\u001b[0m                                Traceback (most recent call last)",
      "Cell \u001b[0;32mIn[20], line 4\u001b[0m\n\u001b[1;32m      1\u001b[0m A_5_2 \u001b[38;5;241m=\u001b[39m np\u001b[38;5;241m.\u001b[39marray([[\u001b[38;5;241m2\u001b[39m,\u001b[38;5;241m4\u001b[39m,\u001b[38;5;241m1\u001b[39m], [\u001b[38;5;241m4\u001b[39m,\u001b[38;5;241m0\u001b[39m,\u001b[38;5;241m1\u001b[39m], [\u001b[38;5;241m1\u001b[39m,\u001b[38;5;241m1\u001b[39m,\u001b[38;5;241m5\u001b[39m]])\n\u001b[1;32m      3\u001b[0m \u001b[38;5;66;03m# Ax= b \\=>  LUx=b \\=> Ly=b.  Ux=y\u001b[39;00m\n\u001b[0;32m----> 4\u001b[0m L_2, U_2 \u001b[38;5;241m=\u001b[39m \u001b[43mCholesky_desc\u001b[49m\u001b[43m(\u001b[49m\u001b[43mA_5_2\u001b[49m\u001b[43m)\u001b[49m\n\u001b[1;32m      6\u001b[0m y_2 \u001b[38;5;241m=\u001b[39m sust_progresiva(L_2,b_5)\n\u001b[1;32m      7\u001b[0m x_2 \u001b[38;5;241m=\u001b[39m sust_regresiva (U_2,y_2)\n",
      "Cell \u001b[0;32mIn[14], line 10\u001b[0m, in \u001b[0;36mCholesky_desc\u001b[0;34m(A)\u001b[0m\n\u001b[1;32m      7\u001b[0m L\u001b[38;5;241m=\u001b[39mnp\u001b[38;5;241m.\u001b[39mzeros([n,n])\n\u001b[1;32m      9\u001b[0m \u001b[38;5;28;01mfor\u001b[39;00m k \u001b[38;5;129;01min\u001b[39;00m \u001b[38;5;28mrange\u001b[39m(n):\n\u001b[0;32m---> 10\u001b[0m     L[k,k]\u001b[38;5;241m=\u001b[39m\u001b[43mmath\u001b[49m\u001b[38;5;241;43m.\u001b[39;49m\u001b[43msqrt\u001b[49m\u001b[43m(\u001b[49m\u001b[43mA\u001b[49m\u001b[43m[\u001b[49m\u001b[43mk\u001b[49m\u001b[43m,\u001b[49m\u001b[43mk\u001b[49m\u001b[43m]\u001b[49m\u001b[38;5;241;43m-\u001b[39;49m\u001b[43mnp\u001b[49m\u001b[38;5;241;43m.\u001b[39;49m\u001b[43mdot\u001b[49m\u001b[43m(\u001b[49m\u001b[43mL\u001b[49m\u001b[43m[\u001b[49m\u001b[43mk\u001b[49m\u001b[43m,\u001b[49m\u001b[43m:\u001b[49m\u001b[43mk\u001b[49m\u001b[43m]\u001b[49m\u001b[43m,\u001b[49m\u001b[43mL\u001b[49m\u001b[43m[\u001b[49m\u001b[43mk\u001b[49m\u001b[43m,\u001b[49m\u001b[43m:\u001b[49m\u001b[43mk\u001b[49m\u001b[43m]\u001b[49m\u001b[43m)\u001b[49m\u001b[43m)\u001b[49m\n\u001b[1;32m     11\u001b[0m     \u001b[38;5;28;01mfor\u001b[39;00m j \u001b[38;5;129;01min\u001b[39;00m \u001b[38;5;28mrange\u001b[39m(k\u001b[38;5;241m+\u001b[39m\u001b[38;5;241m1\u001b[39m,n):\n\u001b[1;32m     12\u001b[0m         L[j,k]\u001b[38;5;241m=\u001b[39m(A[j,k]\u001b[38;5;241m-\u001b[39mnp\u001b[38;5;241m.\u001b[39mdot(L[j,:k],L[k,:k]))\u001b[38;5;241m/\u001b[39mL[k,k]\n",
      "\u001b[0;31mValueError\u001b[0m: math domain error"
     ]
    }
   ],
   "source": [
    "A_5_2 = np.array([[2,4,1], [4,0,1], [1,1,5]])\n",
    "\n",
    "# Ax= b \\=>  LUx=b \\=> Ly=b.  Ux=y\n",
    "L_2, U_2 = Cholesky_desc(A_5_2)\n",
    "\n",
    "y_2 = sust_progresiva(L_2,b_5)\n",
    "x_2 = sust_regresiva (U_2,y_2)"
   ]
  },
  {
   "cell_type": "markdown",
   "id": "688ef17f",
   "metadata": {},
   "source": [
    "En el apartado anterior, podemos ver que al factorizar `A_5_2` no nos deja, ya que su menor principal de orden 2 es negativo, por lo que no es definida positiva y, por tanto, no se le puede aplicar la factorización Cholesky.\n",
    "El error nos indica que estamos calculando la raíz de un número negativo."
   ]
  },
  {
   "cell_type": "code",
   "execution_count": 21,
   "id": "38b2f08e",
   "metadata": {},
   "outputs": [
    {
     "ename": "ValueError",
     "evalue": "math domain error",
     "output_type": "error",
     "traceback": [
      "\u001b[0;31m---------------------------------------------------------------------------\u001b[0m",
      "\u001b[0;31mValueError\u001b[0m                                Traceback (most recent call last)",
      "Cell \u001b[0;32mIn[21], line 4\u001b[0m\n\u001b[1;32m      1\u001b[0m \u001b[38;5;66;03m# Ax= b \\=>  LUx=b \\=> Ly=b.  Ux=y\u001b[39;00m\n\u001b[1;32m      2\u001b[0m \n\u001b[1;32m      3\u001b[0m \u001b[38;5;66;03m# Matriz A del ejercicio 2\u001b[39;00m\n\u001b[0;32m----> 4\u001b[0m L_A, U_A \u001b[38;5;241m=\u001b[39m \u001b[43mCholesky_desc\u001b[49m\u001b[43m(\u001b[49m\u001b[43mA\u001b[49m\u001b[43m)\u001b[49m\n\u001b[1;32m      6\u001b[0m y_A \u001b[38;5;241m=\u001b[39m sust_progresiva(L_A,b)\n\u001b[1;32m      7\u001b[0m x_A \u001b[38;5;241m=\u001b[39m sust_regresiva (U_A,y_A)\n",
      "Cell \u001b[0;32mIn[14], line 10\u001b[0m, in \u001b[0;36mCholesky_desc\u001b[0;34m(A)\u001b[0m\n\u001b[1;32m      7\u001b[0m L\u001b[38;5;241m=\u001b[39mnp\u001b[38;5;241m.\u001b[39mzeros([n,n])\n\u001b[1;32m      9\u001b[0m \u001b[38;5;28;01mfor\u001b[39;00m k \u001b[38;5;129;01min\u001b[39;00m \u001b[38;5;28mrange\u001b[39m(n):\n\u001b[0;32m---> 10\u001b[0m     L[k,k]\u001b[38;5;241m=\u001b[39m\u001b[43mmath\u001b[49m\u001b[38;5;241;43m.\u001b[39;49m\u001b[43msqrt\u001b[49m\u001b[43m(\u001b[49m\u001b[43mA\u001b[49m\u001b[43m[\u001b[49m\u001b[43mk\u001b[49m\u001b[43m,\u001b[49m\u001b[43mk\u001b[49m\u001b[43m]\u001b[49m\u001b[38;5;241;43m-\u001b[39;49m\u001b[43mnp\u001b[49m\u001b[38;5;241;43m.\u001b[39;49m\u001b[43mdot\u001b[49m\u001b[43m(\u001b[49m\u001b[43mL\u001b[49m\u001b[43m[\u001b[49m\u001b[43mk\u001b[49m\u001b[43m,\u001b[49m\u001b[43m:\u001b[49m\u001b[43mk\u001b[49m\u001b[43m]\u001b[49m\u001b[43m,\u001b[49m\u001b[43mL\u001b[49m\u001b[43m[\u001b[49m\u001b[43mk\u001b[49m\u001b[43m,\u001b[49m\u001b[43m:\u001b[49m\u001b[43mk\u001b[49m\u001b[43m]\u001b[49m\u001b[43m)\u001b[49m\u001b[43m)\u001b[49m\n\u001b[1;32m     11\u001b[0m     \u001b[38;5;28;01mfor\u001b[39;00m j \u001b[38;5;129;01min\u001b[39;00m \u001b[38;5;28mrange\u001b[39m(k\u001b[38;5;241m+\u001b[39m\u001b[38;5;241m1\u001b[39m,n):\n\u001b[1;32m     12\u001b[0m         L[j,k]\u001b[38;5;241m=\u001b[39m(A[j,k]\u001b[38;5;241m-\u001b[39mnp\u001b[38;5;241m.\u001b[39mdot(L[j,:k],L[k,:k]))\u001b[38;5;241m/\u001b[39mL[k,k]\n",
      "\u001b[0;31mValueError\u001b[0m: math domain error"
     ]
    }
   ],
   "source": [
    "# Ax= b \\=>  LUx=b \\=> Ly=b.  Ux=y\n",
    "\n",
    "# Matriz A del ejercicio 2\n",
    "L_A, U_A = Cholesky_desc(A)\n",
    "\n",
    "y_A = sust_progresiva(L_A,b)\n",
    "x_A = sust_regresiva (U_A,y_A)"
   ]
  },
  {
   "cell_type": "code",
   "execution_count": 23,
   "id": "a3473064",
   "metadata": {},
   "outputs": [
    {
     "data": {
      "text/plain": [
       "-8.999999999999942e+21"
      ]
     },
     "execution_count": 23,
     "metadata": {},
     "output_type": "execute_result"
    }
   ],
   "source": [
    "np.linalg.det(A)"
   ]
  },
  {
   "cell_type": "markdown",
   "id": "02d6ebbf",
   "metadata": {},
   "source": [
    "En este apartado, tampoco podemos calcular la factorización de Cholesky por el mismo motivo. Prueba de esto es que el determinante de la matriz es negativo, como podemos ver en la línea anterior."
   ]
  },
  {
   "cell_type": "markdown",
   "id": "43fff3bb",
   "metadata": {},
   "source": [
    "## Ejercicio 6\n",
    "\n",
    "Modiﬁca el código para la resolución de un sistema mediante el método de Jacobi dado en teoría para resolver de\n",
    "forma aproximada un sistema de ecuaciones lineales utilizando el método de Gauss-Seidel."
   ]
  },
  {
   "cell_type": "markdown",
   "id": "2d0f76bd",
   "metadata": {},
   "source": [
    "En primer lugar me defino estra función auxiliar, que se puede ver su funcionaminto fácilmente."
   ]
  },
  {
   "cell_type": "code",
   "execution_count": 24,
   "id": "ec603bc4",
   "metadata": {},
   "outputs": [],
   "source": [
    "def TriangularInferior (A):\n",
    "    \"\"\"\n",
    "    Dada una matriz A, devuelve la matriz triangular inferior. Es decir, con 0s por encima de la diagonal principal\n",
    "    A debe ser un numpyArray\n",
    "    \"\"\"\n",
    "    dim = np.shape(A)\n",
    "    sup = np.copy(A)\n",
    "    \n",
    "    for fil in range(dim[0]):\n",
    "        for col in range(dim[1]):\n",
    "            if (fil < col):\n",
    "                sup[fil][col] = 0\n",
    "    \n",
    "    \n",
    "    return sup"
   ]
  },
  {
   "cell_type": "code",
   "execution_count": 25,
   "id": "935f7d03",
   "metadata": {},
   "outputs": [],
   "source": [
    "A=np.array([[1,2,3], [4,5,6], [7,8,9]])"
   ]
  },
  {
   "cell_type": "code",
   "execution_count": 26,
   "id": "fa48e1b6",
   "metadata": {},
   "outputs": [
    {
     "data": {
      "text/plain": [
       "array([[1, 0, 0],\n",
       "       [4, 5, 0],\n",
       "       [7, 8, 9]])"
      ]
     },
     "execution_count": 26,
     "metadata": {},
     "output_type": "execute_result"
    }
   ],
   "source": [
    "TriangularInferior(A)"
   ]
  },
  {
   "cell_type": "code",
   "execution_count": 27,
   "id": "f8c296db",
   "metadata": {},
   "outputs": [],
   "source": [
    "def GaussSeidel(A, b, maxiter=1000, tol=1e-10):\n",
    "    \"\"\"\n",
    "    Esta función resuelve el sistema Ax=b de forma aproximada mediante el método iterativo de Gauss-Seidel empezando las iteraciones\n",
    "    en el vector nulo.\n",
    "    Las matrices A y b deben ser arrays de NumPy.\n",
    "    El número máximo de iteraciones se puede introducir por el usuario y es 1000 por defecto.\n",
    "    La tolerancia también se puede introducir por el usuario y es 10^(-10) por defecto.\n",
    "    El método se interrumpe cuando se alcanza el número máximo de iteraciones o cuando la tolerancia es menor que la indicada.\n",
    "    \n",
    "    \"\"\"\n",
    "    \n",
    "    n=np.shape(A)[1] # se calcula la dimensión de A\n",
    "    d=np.diag(A)     # obtenemos un array con los elementos de la diagonal de la matriz A\n",
    "    x=np.zeros(n)\n",
    "    y=np.zeros(n)\n",
    "          \n",
    "    if np.prod(d)==0:\n",
    "        print('Hay elementos nulos en la diagonal de la matriz')\n",
    "    else:\n",
    "        k=0\n",
    "        er=1\n",
    "        nx=1\n",
    "        while (er>tol*nx and k<maxiter):\n",
    "            k+=1\n",
    "            nx=np.linalg.norm(x,1)        \n",
    "            for i in range(n):\n",
    "                y[i] = (b[i] - np.dot(A[i,:i],y[:i]) - np.dot(A[i,i+1:],x[i+1:]) )/A[i,i]  \n",
    "            er=np.linalg.norm(y-x,1)   # calculamos la norma de la diferencia entre y y el resultado de la iteración anterior        \n",
    "            x=np.copy(y)\n",
    "           # print('Iteración k=', k, '  x^(k)= ', x ) # descomentar si se quieren ver las iteraciones.\n",
    "            \n",
    "        if (k>=maxiter):\n",
    "            print(\"Numero máximo de iteraciones alcanzado\")\n",
    "        else:\n",
    "            print(\"Calculado en la iteración \" + str(k))\n",
    "        \n",
    "        return x"
   ]
  },
  {
   "cell_type": "code",
   "execution_count": 28,
   "id": "65eb8399",
   "metadata": {},
   "outputs": [],
   "source": [
    "def Jacobi(A, b, maxiter=1000, tol=1e-10):\n",
    "    \"\"\"\n",
    "    Esta función resuelve el sistema Ax=b de forma aproximada mediante el método iterativo de Jacobi empezando las iteraciones\n",
    "    en el vector nulo.\n",
    "    Las matrices A y b deben ser arrays de NumPy.\n",
    "    El número máximo de iteraciones se puede introducir por el usuario y es 1000 por defecto.\n",
    "    La tolerancia también se puede introducir por el usuario y es 10^(-10) por defecto.\n",
    "    El método se interrumpe cuando se alcanza el número máximo de iteraciones o cuando la tolerancia es menor que la indicada.\n",
    "    \n",
    "    \"\"\"\n",
    "    \n",
    "    n=np.shape(A)[1] # se calcula la dimensión de A\n",
    "    d=np.diag(A)     # obtenemos un array con los elementos de la diagonal de la matriz A\n",
    "    D=np.diag(d)     # creamos un array diagonal con los elementos de d\n",
    "    R=A-D            # matriz con los elementos que no están en la diagonal\n",
    "    x=np.zeros(n)\n",
    "    y=np.zeros(n)\n",
    "          \n",
    "    if np.prod(d)==0:\n",
    "        print('Hay elementos nulos en la diagonal de la matriz')\n",
    "    else:\n",
    "        k=0\n",
    "        er=1\n",
    "        nx=1\n",
    "        while (er>tol*nx and k<maxiter):\n",
    "            k+=1\n",
    "            nx=np.linalg.norm(x,1)        \n",
    "            y=(b - np.dot(R,x)) / d       # aplicamos una iteración del método de Jacobi obteniendo un vector y\n",
    "            er=np.linalg.norm(y-x,1)      # calculamos la norma de la diferencia entre y y el resultado de la iteración anterior        \n",
    "            x=y\n",
    "            #print('Iteración k=', k, '  x^(k)= ', x ) # descomentar si se quieren ver las iteraciones.\n",
    "        \n",
    "        if (k>=maxiter):\n",
    "            print(\"Numero máximo de iteraciones alcanzado\")\n",
    "        else:\n",
    "            print(\"Calculado en la iteración \" + str(k))\n",
    "        return x"
   ]
  },
  {
   "cell_type": "code",
   "execution_count": 29,
   "id": "d3b406b0",
   "metadata": {},
   "outputs": [],
   "source": [
    "A=np.array([[10,4,1],[4,10,1],[1,1,5]])\n",
    "b=np.array([15,15,7])"
   ]
  },
  {
   "cell_type": "code",
   "execution_count": 30,
   "id": "63a6a309",
   "metadata": {},
   "outputs": [
    {
     "data": {
      "text/plain": [
       "array([1., 1., 1.])"
      ]
     },
     "execution_count": 30,
     "metadata": {},
     "output_type": "execute_result"
    }
   ],
   "source": [
    "np.linalg.solve(A,b)"
   ]
  },
  {
   "cell_type": "code",
   "execution_count": 31,
   "id": "cfce3b55",
   "metadata": {},
   "outputs": [
    {
     "name": "stdout",
     "output_type": "stream",
     "text": [
      "Calculado en la iteración 40\n"
     ]
    },
    {
     "data": {
      "text/plain": [
       "array([1., 1., 1.])"
      ]
     },
     "execution_count": 31,
     "metadata": {},
     "output_type": "execute_result"
    }
   ],
   "source": [
    "Jacobi(A,b, 1e4, 1e-12)"
   ]
  },
  {
   "cell_type": "code",
   "execution_count": 32,
   "id": "a0c73f63",
   "metadata": {},
   "outputs": [
    {
     "name": "stdout",
     "output_type": "stream",
     "text": [
      "Calculado en la iteración 15\n"
     ]
    },
    {
     "data": {
      "text/plain": [
       "array([1., 1., 1.])"
      ]
     },
     "execution_count": 32,
     "metadata": {},
     "output_type": "execute_result"
    }
   ],
   "source": [
    "GaussSeidel(A,b, 1e4, 1e-12)"
   ]
  },
  {
   "cell_type": "markdown",
   "id": "0251a9bc",
   "metadata": {},
   "source": [
    "## Ejercicio 7\n",
    "\n",
    "Una vez programado Gauss-Seidel, haz las modiﬁcaciones oportunas para deﬁnir una función que resuelva un sistema utilizando un método de relajación con la constante $\\omega$ introducida por el usuario."
   ]
  },
  {
   "cell_type": "code",
   "execution_count": 33,
   "id": "1181c04e",
   "metadata": {},
   "outputs": [],
   "source": [
    "def Relajacion(A, b, omega=1, maxiter=1000, tol=1e-10):\n",
    "    \"\"\"\n",
    "    Esta función resuelve el sistema Ax=b de forma aproximada mediante el método iterativo de relajación empezando las iteraciones\n",
    "    en el vector nulo.\n",
    "    Las matrices A y b deben ser arrays de NumPy.\n",
    "    El valor de omega lo aporta el usuario.\n",
    "    El número máximo de iteraciones se puede introducir por el usuario y es 1000 por defecto.\n",
    "    La tolerancia también se puede introducir por el usuario y es 10^(-10) por defecto.\n",
    "    El método se interrumpe cuando se alcanza el número máximo de iteraciones o cuando la tolerancia es menor que la indicada.\n",
    "    \n",
    "    \"\"\"\n",
    "    \n",
    "    if (omega <= 0 or omega >= 2):\n",
    "        print (\"El método iterativo no converge para ese valor de omega\")\n",
    "    else:\n",
    "    \n",
    "        n=np.shape(A)[1] # se calcula la dimensión de A\n",
    "        d=np.diag(A)     # obtenemos un array con los elementos de la diagonal de la matriz A\n",
    "        x=np.zeros(n)\n",
    "        x_bar=np.zeros(n)\n",
    "        y=np.zeros(n)\n",
    "\n",
    "        if np.prod(d)==0:\n",
    "            print('Hay elementos nulos en la diagonal de la matriz')\n",
    "        else:\n",
    "            k=0\n",
    "            er=1\n",
    "            nx=1\n",
    "            while (er>tol*nx and k<maxiter):\n",
    "                k+=1\n",
    "                nx=np.linalg.norm(x,1)        \n",
    "                for i in range(n):\n",
    "                    x_bar[i] = (b[i] - np.dot(A[i,:i],y[:i]) - np.dot(A[i,i+1:],x[i+1:]) )/A[i,i]\n",
    "                    y = omega*x_bar + (1-omega)*x\n",
    "                er=np.linalg.norm(y-x,1)   # calculamos la norma de la diferencia entre y y el resultado de la iteración anterior        \n",
    "                x=np.copy(y)\n",
    "               # print('Iteración k=', k, '  x^(k)= ', x ) # descomentar si se quieren ver las iteraciones.\n",
    "\n",
    "\n",
    "            if (k>=maxiter):\n",
    "                print(\"Numero máximo de iteraciones alcanzado\")\n",
    "            else:\n",
    "                print(\"Calculado en la iteración \" + str(k))\n",
    "            return x"
   ]
  },
  {
   "cell_type": "code",
   "execution_count": 34,
   "id": "04595ed6",
   "metadata": {},
   "outputs": [
    {
     "name": "stdout",
     "output_type": "stream",
     "text": [
      "Calculado en la iteración 30\n"
     ]
    },
    {
     "data": {
      "text/plain": [
       "array([1., 1., 1.])"
      ]
     },
     "execution_count": 34,
     "metadata": {},
     "output_type": "execute_result"
    }
   ],
   "source": [
    "Relajacion(A,b, 0.8, 1e4, 1e-12)"
   ]
  },
  {
   "cell_type": "markdown",
   "id": "79ce9072",
   "metadata": {},
   "source": [
    "## Ejericio 8\n",
    "\n",
    "Deﬁne una matriz $A$ cuadrada de orden 20 cuyo elemento $a_{ij} = \\frac{1}{i + j}$ siempre que $i \\neq j$ y $a_{ii} = 20\\cdot i^2$. Deﬁne también un vector $b$ cuyas componentes sean todas iguales a 20. Resuelve ahora el sistema $Ax = b$ de forma\n",
    "aproximada mediante los métodos de Jacobi y Gauss-Seidel con un máximo de $10000$ iteraciones y una tolerancia\n",
    "de $10^{−12}$. Si también has programado el método de relajación, inclúyelo también utilizando $\\omega = 0.8$. Comenta los\n",
    "resultados.\n"
   ]
  },
  {
   "cell_type": "code",
   "execution_count": 35,
   "id": "33bfa298",
   "metadata": {},
   "outputs": [],
   "source": [
    "num_fils = 20\n",
    "\n",
    "A = np.zeros((num_fils, num_fils))\n",
    "for fil in range(num_fils):\n",
    "    for col in range(num_fils):\n",
    "        if (fil==col):\n",
    "            A[fil,col] = 20*((fil+1)**2)\n",
    "        else:\n",
    "            A[fil][col] = 1/(fil+col+2)\n",
    "\n",
    "termino_independiente = 20\n",
    "b = np.array([termino_independiente for i in range(num_fils)])"
   ]
  },
  {
   "cell_type": "code",
   "execution_count": 36,
   "id": "21fa0814",
   "metadata": {},
   "outputs": [
    {
     "name": "stdout",
     "output_type": "stream",
     "text": [
      "Calculado en la iteración 8\n"
     ]
    },
    {
     "data": {
      "text/plain": [
       "array([0.99293021, 0.24523958, 0.10932211, 0.06165761, 0.03953924,\n",
       "       0.02749887, 0.02022665, 0.01550028, 0.0122563 , 0.00993376,\n",
       "       0.00821401, 0.00690512, 0.00588592, 0.00507681, 0.00442377,\n",
       "       0.0038891 , 0.00344582, 0.00307423, 0.00275967, 0.00249103])"
      ]
     },
     "execution_count": 36,
     "metadata": {},
     "output_type": "execute_result"
    }
   ],
   "source": [
    "Jacobi(A,b, 1e4, 1e-12)"
   ]
  },
  {
   "cell_type": "code",
   "execution_count": 37,
   "id": "c7926d02",
   "metadata": {},
   "outputs": [
    {
     "name": "stdout",
     "output_type": "stream",
     "text": [
      "Calculado en la iteración 5\n"
     ]
    },
    {
     "data": {
      "text/plain": [
       "array([0.99293021, 0.24523958, 0.10932211, 0.06165761, 0.03953924,\n",
       "       0.02749887, 0.02022665, 0.01550028, 0.0122563 , 0.00993376,\n",
       "       0.00821401, 0.00690512, 0.00588592, 0.00507681, 0.00442377,\n",
       "       0.0038891 , 0.00344582, 0.00307423, 0.00275967, 0.00249103])"
      ]
     },
     "execution_count": 37,
     "metadata": {},
     "output_type": "execute_result"
    }
   ],
   "source": [
    "GaussSeidel(A,b, 1e4, 1e-12)"
   ]
  },
  {
   "cell_type": "code",
   "execution_count": 38,
   "id": "14ff6954",
   "metadata": {},
   "outputs": [
    {
     "name": "stdout",
     "output_type": "stream",
     "text": [
      "Calculado en la iteración 18\n"
     ]
    },
    {
     "data": {
      "text/plain": [
       "array([0.99293021, 0.24523958, 0.10932211, 0.06165761, 0.03953924,\n",
       "       0.02749887, 0.02022665, 0.01550028, 0.0122563 , 0.00993376,\n",
       "       0.00821401, 0.00690512, 0.00588592, 0.00507681, 0.00442377,\n",
       "       0.0038891 , 0.00344582, 0.00307423, 0.00275967, 0.00249103])"
      ]
     },
     "execution_count": 38,
     "metadata": {},
     "output_type": "execute_result"
    }
   ],
   "source": [
    "Relajacion(A,b,0.8, 1e4, 1e-12)"
   ]
  },
  {
   "cell_type": "markdown",
   "id": "f901f3eb",
   "metadata": {},
   "source": [
    "Como se puede ver, los tres métodos convergen, pero el de Gauss-Seidel es el más rápido."
   ]
  },
  {
   "cell_type": "code",
   "execution_count": 39,
   "id": "7733ad90",
   "metadata": {},
   "outputs": [],
   "source": [
    "sums = np.array([(A[i][i] - (sum(A[i][:i]) + sum(A[i][i+1:])))  for i in range (num_fils)])"
   ]
  },
  {
   "cell_type": "code",
   "execution_count": 40,
   "id": "8098a487",
   "metadata": {},
   "outputs": [
    {
     "data": {
      "text/plain": [
       "17.854641295237272"
      ]
     },
     "execution_count": 40,
     "metadata": {},
     "output_type": "execute_result"
    }
   ],
   "source": [
    "np.min(sums)"
   ]
  },
  {
   "cell_type": "markdown",
   "id": "ac457997",
   "metadata": {},
   "source": [
    "Como el mínimo es positivo, signitica que la matriz es E.D.D. por filas y, por tanto, Jacobi y Gauss-Seidel convergen.\n",
    "Además, como omega está entre 0 y 1, también converge relajación."
   ]
  }
 ],
 "metadata": {
  "kernelspec": {
   "display_name": "Python 3 (ipykernel)",
   "language": "python",
   "name": "python3"
  },
  "language_info": {
   "codemirror_mode": {
    "name": "ipython",
    "version": 3
   },
   "file_extension": ".py",
   "mimetype": "text/x-python",
   "name": "python",
   "nbconvert_exporter": "python",
   "pygments_lexer": "ipython3",
   "version": "3.10.12"
  }
 },
 "nbformat": 4,
 "nbformat_minor": 5
}
