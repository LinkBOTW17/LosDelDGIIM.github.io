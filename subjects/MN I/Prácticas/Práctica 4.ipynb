{
 "cells": [
  {
   "cell_type": "markdown",
   "id": "c41bef1a",
   "metadata": {},
   "source": [
    "# Práctica 4. Interpolación: Funciones Spline\n",
    "\n",
    "**Autor:** Arturo Olivares Martos\n",
    "***\n",
    "\n",
    "- **Asignatura:** Métodos Numéricos I.\n",
    "- **Curso Académico:** 2022-23.\n",
    "- **Grado:** Doble Grado en Ingeniería Informática y Matemáticas.\n",
    "- **Grupo:** Único.\n",
    "- **Profesor:** Miguel Ángel Piñar González.\n",
    "- **Descripción:** Práctica 4 de la asignatura Métodos Numéricos I. Uso de funciones spline para la interpolación de funciones.\n",
    "<!--- **Fecha:** 17 de abril de 2023. -->\n",
    "<!-- - **Duración:** -->"
   ]
  },
  {
   "cell_type": "code",
   "execution_count": 1,
   "id": "c64a128f",
   "metadata": {},
   "outputs": [],
   "source": [
    "import numpy as np\n",
    "import matplotlib.pyplot as plt"
   ]
  },
  {
   "cell_type": "markdown",
   "id": "59da257c",
   "metadata": {},
   "source": [
    "Se desea construir un gráfico en el que se incluyan la función interpolada\n",
    "$$f(x)=\\frac{1}{1+x^2}$$\n",
    "y las gráficas de dos splines cúbicos naturales que interpolan a $f$ en, respectivamente, $11$ y $21$ puntos equiespaciados del intervalo $[-5, 5]$."
   ]
  },
  {
   "cell_type": "markdown",
   "id": "16643633",
   "metadata": {},
   "source": [
    "## Ejercicio 1\n",
    "Construya un array que contenga un conjunto de $n$ puntos equiespaciados del intervalo $[−5, 5]$."
   ]
  },
  {
   "cell_type": "markdown",
   "id": "26e7d35d",
   "metadata": {},
   "source": [
    "El algoritmo se ha realizado de forma escalable, de forma que si se desea modificar el dominio, basta con cambiar el array DOMINIO."
   ]
  },
  {
   "cell_type": "code",
   "execution_count": 3,
   "id": "9617131b",
   "metadata": {},
   "outputs": [],
   "source": [
    "######################################\n",
    "DOMINIO = np.array([-5, 5])\n",
    "######################################\n",
    "\n",
    "def px(n):\n",
    "    return np.linspace(DOMINIO[0], DOMINIO[1], n)"
   ]
  },
  {
   "cell_type": "markdown",
   "id": "6d60714d",
   "metadata": {},
   "source": [
    "## Ejercicio 2\n",
    "Construya un array que contenga las imágenes mediante $f(x)=\\frac{1}{1+x^2}$ de los puntos anteriores."
   ]
  },
  {
   "cell_type": "markdown",
   "id": "c8389866",
   "metadata": {},
   "source": [
    "El algoritmo se ha realizado de forma escalable, de forma que si se desea la función a interpolar, basta con cambiar la definición de f."
   ]
  },
  {
   "cell_type": "code",
   "execution_count": 2,
   "id": "ed4c79b5",
   "metadata": {},
   "outputs": [],
   "source": [
    "def f(x):\n",
    "    return 1/(1+x**2)"
   ]
  },
  {
   "cell_type": "markdown",
   "id": "6775a56c",
   "metadata": {},
   "source": [
    "## Ejercicio 3\n",
    "Construya una función en Python que a partir de los arrays anteriores  debe construir una función spline que obtenga la lista de derivadas que definen el spline cúbico natural, usando el sistema tridiagonal de ecuaciones."
   ]
  },
  {
   "cell_type": "code",
   "execution_count": 4,
   "id": "9b1f8df6",
   "metadata": {},
   "outputs": [],
   "source": [
    "def spline(lista_x, lista_f):\n",
    "    \n",
    "    # Los puntos son x_0, ..., x_n\n",
    "    n=len(lista_x)-1\n",
    "    \n",
    "    # Calculo los valores de h y de delta\n",
    "    h = np.zeros(n)\n",
    "    delta = np.zeros(n)\n",
    "    \n",
    "    for i in range(0, n):\n",
    "        h[i]=lista_x[i+1]-lista_x[i]\n",
    "        delta[i] = (lista_f[i+1]-lista_f[i]) / h[i]\n",
    "        \n",
    "    # Obtengo la matriz de coeficientes y de términos independientes\n",
    "    A = np.zeros((n+1,n+1))\n",
    "    B = np.zeros(n+1)\n",
    "    \n",
    "    # Obtengo en primer lugar la fila 0 y la fila n, ya que son distintas\n",
    "    A[0][0] = 2/h[0]\n",
    "    A[0][1] = 1/h[0]\n",
    "    B[0] = delta[0]/h[0]\n",
    "    \n",
    "    A[n][n-1] = 1/h[n-1]\n",
    "    A[n][n] = 2/h[n-1]\n",
    "    B[n] = delta[n-1]/h[n-1]\n",
    "    \n",
    "    # Obtengo el resto de filas, iterando sobre cada fila\n",
    "    for i in range(1, n):\n",
    "        A[i][i-1] = 1/h[i-1]\n",
    "        A[i][i+1] = 1/h[i]\n",
    "        A[i][i]   = 2*(A[i][i-1] + A[i][i+1])\n",
    "        \n",
    "        B[i] = delta[i]/h[i] + delta[i-1]/h[i-1]\n",
    "    \n",
    "    B=3*B\n",
    "    \n",
    "    \n",
    "    # Resuelvo el sistema para obtener el valor de las derivadas\n",
    "    lista_d = np.linalg.solve(A, B)\n",
    "    \n",
    "    return(lista_d)"
   ]
  },
  {
   "cell_type": "markdown",
   "id": "8af12607",
   "metadata": {},
   "source": [
    "## Ejercicio 4\n",
    "\n",
    "Para dibujar la lista de polinomios que constituyen el spline construya su propia función evalspline que dados los puntos de interpolación, sus imágenes, la lista de derivadas devuelta por la función spline, y un punto $x$ arbitrario del intervalo $[-5,5]$ proporcione el valor del spline en el punto $x$.\n",
    "\n",
    "Para ello, primero deberá localizar el intervalo en que se encuentra $x$ y después deberá evaluar en $x$ el polinomio de grado 3 que define el spline en dicho intervalo."
   ]
  },
  {
   "cell_type": "code",
   "execution_count": 5,
   "id": "61ec306b",
   "metadata": {},
   "outputs": [],
   "source": [
    "def calc_dif_div_Hermite (lista_x, lista_f, lista_d):\n",
    "    n = len(lista_x)\n",
    "    \n",
    "    dif_divididas = np.zeros([n,n])\n",
    "    \"\"\"\n",
    "    Definimos dif_divididas[i][k] como f[x_i, ..., x_{i+k}]\n",
    "    \"\"\"\n",
    "    \n",
    "    # La tabla se va completando por columnas\n",
    "    \n",
    "    # En primer lugar, completo las diferencias divididas de solo un término. (columna 0)\n",
    "    for i in range(n):\n",
    "        dif_divididas[i][0]=lista_f[i]\n",
    "    \n",
    "    # Para las de más de un término, itero sobre k, la diferencia entre el último y el primero de la diferencia dividida.\n",
    "    # También se puede entender k=nº de términos de la diferencia dividida -1\n",
    "    # También se puede entender k=nº de términos de la diferencia dividida empezando desde 0\n",
    "    # En cada iteración se rellena la columna k, al igual que al representarla nosotros a mano\n",
    "    for k in range(1,n):\n",
    "        for i in range(0, n-k):\n",
    "            \n",
    "            if (lista_x[i+k] == lista_x[i]):\n",
    "                # Como se pasan las abcisas duplicadas, se divide entre 2\n",
    "                dif_divididas[i][k] = lista_d[int(i/2)]\n",
    "            \n",
    "            else:\n",
    "                dif_divididas[i][k] = (dif_divididas[i+1][k-1] - dif_divididas[i][k-1]) / (lista_x[i+k] -lista_x[i])\n",
    "    \n",
    "    # Los coeficientes son f[0, k], para todo k. Por tanto, nos quedamos con la primera fila.\n",
    "    return dif_divididas[0]"
   ]
  },
  {
   "cell_type": "code",
   "execution_count": 6,
   "id": "e614b704",
   "metadata": {},
   "outputs": [],
   "source": [
    "def NewtonHorner (x, puntos_x, coeficientes):\n",
    "    valor = 0\n",
    "    \n",
    "    n = len(coeficientes)\n",
    "    \n",
    "    # Itero desde el final hasta el principio, ya que voy desde dentro hacia afuera.\n",
    "    for i in range (n-1, 0-1, -1):\n",
    "        valor = valor*(x-puntos_x[i]) + coeficientes[i]\n",
    "    \n",
    "    return valor"
   ]
  },
  {
   "cell_type": "code",
   "execution_count": 7,
   "id": "bdc366d6",
   "metadata": {},
   "outputs": [],
   "source": [
    "def evalspline(lista_x, lista_f, lista_d, t):\n",
    "    \n",
    "    #Busco el intervalo en el que se ecuentra, sabiendo que la lista_x está ordenada\n",
    "    i = 0\n",
    "    \n",
    "    while (t>lista_x[i]):\n",
    "        i+=1\n",
    "    \n",
    "    # Sabemos que t € [x_{i-1}, x_1]. Interpolamos con las abscisas repetidas. Como los polinomios son de grado 3 (cúbicos),\n",
    "    # requieren de 4 puntos\n",
    "    x_inter = np.array([lista_x[i-1], lista_x[i-1], lista_x[i], lista_x[i]])\n",
    "    f_inter = np.array([lista_f[i-1], lista_f[i-1], lista_f[i], lista_f[i]])\n",
    "    \n",
    "    d_inter = np.array([lista_d[i-1], lista_d[i]])\n",
    "    \n",
    "    coef_Newton = calc_dif_div_Hermite (x_inter, f_inter, d_inter)\n",
    "    \n",
    "    return NewtonHorner(t, x_inter, coef_Newton)"
   ]
  },
  {
   "cell_type": "markdown",
   "id": "80765dc5",
   "metadata": {},
   "source": [
    "## Ejercicio 5\n",
    "Realizar la gráfica pedida."
   ]
  },
  {
   "cell_type": "markdown",
   "id": "e82271b2",
   "metadata": {},
   "source": [
    "El algoritmo se ha realizado de forma escalable, de forma que si se desea cambiar los grados de los polinomios de interpolación, basta con cambiar el array GRADOS."
   ]
  },
  {
   "cell_type": "code",
   "execution_count": 8,
   "id": "74ffe235",
   "metadata": {},
   "outputs": [],
   "source": [
    "# Número de puntos para que parezcan curvas y no unión de segmentos.\n",
    "npuntos = 1000;\n",
    "px_f = px(npuntos)\n",
    "\n",
    "# Gráfica real de la curva de Agnesí\n",
    "py_f = f(px_f)\n",
    "\n",
    "######################################\n",
    "# Número de nodos a interpolar\n",
    "N_NODOS = np.array([3, 5, 7, 11,21])\n",
    "######################################\n",
    "\n",
    "# Cada fila de la matriz contendrá las imágenes de los N_NODOS mediante el polinomio de interpolacion\n",
    "py_nNodos = np.zeros([len(N_NODOS), npuntos])\n",
    "\n",
    "# Calculo y evalúo el polinomio para cada uno de los splines de N_NODOS\n",
    "for i in range(len(N_NODOS)):\n",
    "    \n",
    "    # Para cada número de puntos, calculo los datos \"previos\"\n",
    "    px_interpolacion_i_nodos = px(N_NODOS[i])\n",
    "    py_interpolacion_i_nodos = f(px_interpolacion_i_nodos)\n",
    "    \n",
    "    # Obtengo ahora las derivadas\n",
    "    lista_d = spline(px_interpolacion_i_nodos, py_interpolacion_i_nodos)\n",
    "            \n",
    "    # Evalúo el spline\n",
    "    for j in range(len(px_f)):\n",
    "        py_nNodos[i][j] = evalspline(px_interpolacion_i_nodos, py_interpolacion_i_nodos, lista_d, px_f[j])"
   ]
  },
  {
   "cell_type": "code",
   "execution_count": 9,
   "id": "ba7f0e87",
   "metadata": {},
   "outputs": [
    {
     "data": {
      "image/png": "[encoded data removed]",
      "text/plain": [
       "<Figure size 640x480 with 1 Axes>"
      ]
     },
     "metadata": {},
     "output_type": "display_data"
    }
   ],
   "source": [
    "# Represento los ejes\n",
    "plt.axhline(y=0, color='black', linewidth=1)\n",
    "plt.axvline(x=0, color='black', linewidth=1)\n",
    "plt.xlabel('Eje $x$')\n",
    "plt.ylabel('Eje $y$', rotation=0)\n",
    "\n",
    "# Represento la función\n",
    "plt.plot(px_f,py_f, 'r', label='$f(x)$')\n",
    "\n",
    "plt.ylim(-1, 3)\n",
    "plt.xlim(-5,5)\n",
    "\n",
    "\n",
    "# Represento cada grado\n",
    "for i in range(len(N_NODOS)):\n",
    "    plt.plot(px_f,py_nNodos[i], label='$s_{'+str(N_NODOS[i])+'}(x)$')\n",
    " \n",
    "\n",
    "plt.grid()\n",
    "plt.title(\"Splines Cúbicos Naturales\", fontsize=20)\n",
    "plt.legend()\n",
    "plt.show()\n",
    "#plt.savefig('grafico.svg')"
   ]
  },
  {
   "cell_type": "markdown",
   "id": "28c147f2",
   "metadata": {},
   "source": [
    "Como vemos, con el uso de splines se elimina el fenómeno de Runge, que se produce en la interpolación de polinomios de grado alto."
   ]
  }
 ],
 "metadata": {
  "kernelspec": {
   "display_name": "Python 3 (ipykernel)",
   "language": "python",
   "name": "python3"
  },
  "language_info": {
   "codemirror_mode": {
    "name": "ipython",
    "version": 3
   },
   "file_extension": ".py",
   "mimetype": "text/x-python",
   "name": "python",
   "nbconvert_exporter": "python",
   "pygments_lexer": "ipython3",
   "version": "3.10.12"
  }
 },
 "nbformat": 4,
 "nbformat_minor": 5
}
