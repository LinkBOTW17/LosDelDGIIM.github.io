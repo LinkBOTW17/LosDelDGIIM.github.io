{
 "cells": [
  {
   "cell_type": "markdown",
   "id": "203d5b6b",
   "metadata": {},
   "source": [
    "# Introducción a Python"
   ]
  },
  {
   "cell_type": "markdown",
   "id": "69d401a8",
   "metadata": {},
   "source": [
    "**Autor:** Arturo Olivares Martos\n",
    "***\n",
    "\n",
    "- **Asignatura:** Métodos Numéricos I.\n",
    "- **Curso Académico:** 2022-23.\n",
    "- **Grado:** Doble Grado en Ingeniería Informática y Matemáticas.\n",
    "- **Grupo:** Único.\n",
    "- **Profesor:** Lidia Fernández Rodríguez.\n",
    "- **Descripción:** Práctica 0 de la asignatura Métodos Numéricos I. Introducción al lenguaje de programación Python.\n",
    "<!--- **Fecha:** 17 de abril de 2023. -->\n",
    "<!-- - **Duración:** -->"
   ]
  },
  {
   "cell_type": "markdown",
   "id": "3dd51a34",
   "metadata": {},
   "source": [
    "## Ejercicio 1\n",
    "Escribe un pequeño programa que calcule el máximo entre 4 números que debe introducir el usuario sin utilizar la\n",
    "función `max` de Python."
   ]
  },
  {
   "cell_type": "code",
   "execution_count": 4,
   "id": "19d17e2a",
   "metadata": {},
   "outputs": [
    {
     "name": "stdout",
     "output_type": "stream",
     "text": [
      "El maximo es: 9\n"
     ]
    }
   ],
   "source": [
    "numbers=[]\n",
    "NUMS = 4\n",
    "\n",
    "for i in range(NUMS):\n",
    "    x=input(\"Introduce el numero \" + str(i+1)+ \" : \")\n",
    "    numbers.append(x)\n",
    "\n",
    "max = numbers[0]\n",
    "for i in range(1,len(numbers)):\n",
    "    if numbers[i]>max:\n",
    "        max = numbers[i]\n",
    "\n",
    "print(\"El maximo es: \" + str(max))"
   ]
  },
  {
   "cell_type": "markdown",
   "id": "4e13251e",
   "metadata": {},
   "source": [
    "## Ejercicio 2\n",
    "\n",
    "Crea un array `A` de `Numpy` de 20 filas y 10 columnas de manera que el elemento $(i, j)$ sea $\\dfrac{1}{i^2+j-1}$ para $1 \\leq i \\leq 20$ y $1 \\leq j \\leq 10$. Ten en cuenta que las filas y columnas se numeran a partir de 1 pero en Python la numeración empieza en 0. El primer elemento del array debe ser 1."
   ]
  },
  {
   "cell_type": "code",
   "execution_count": 4,
   "id": "74b1a27c",
   "metadata": {},
   "outputs": [],
   "source": [
    "import numpy as np"
   ]
  },
  {
   "cell_type": "code",
   "execution_count": 17,
   "id": "52e8c551",
   "metadata": {},
   "outputs": [
    {
     "name": "stdout",
     "output_type": "stream",
     "text": [
      "[[1.         0.5        0.33333333 0.25       0.2        0.16666667\n",
      "  0.14285714 0.125      0.11111111 0.1       ]\n",
      " [0.25       0.2        0.16666667 0.14285714 0.125      0.11111111\n",
      "  0.1        0.09090909 0.08333333 0.07692308]\n",
      " [0.11111111 0.1        0.09090909 0.08333333 0.07692308 0.07142857\n",
      "  0.06666667 0.0625     0.05882353 0.05555556]\n",
      " [0.0625     0.05882353 0.05555556 0.05263158 0.05       0.04761905\n",
      "  0.04545455 0.04347826 0.04166667 0.04      ]\n",
      " [0.04       0.03846154 0.03703704 0.03571429 0.03448276 0.03333333\n",
      "  0.03225806 0.03125    0.03030303 0.02941176]\n",
      " [0.02777778 0.02702703 0.02631579 0.02564103 0.025      0.02439024\n",
      "  0.02380952 0.02325581 0.02272727 0.02222222]\n",
      " [0.02040816 0.02       0.01960784 0.01923077 0.01886792 0.01851852\n",
      "  0.01818182 0.01785714 0.01754386 0.01724138]\n",
      " [0.015625   0.01538462 0.01515152 0.01492537 0.01470588 0.01449275\n",
      "  0.01428571 0.01408451 0.01388889 0.01369863]\n",
      " [0.01234568 0.01219512 0.01204819 0.01190476 0.01176471 0.01162791\n",
      "  0.01149425 0.01136364 0.01123596 0.01111111]\n",
      " [0.01       0.00990099 0.00980392 0.00970874 0.00961538 0.00952381\n",
      "  0.00943396 0.00934579 0.00925926 0.00917431]\n",
      " [0.00826446 0.00819672 0.00813008 0.00806452 0.008      0.00793651\n",
      "  0.00787402 0.0078125  0.00775194 0.00769231]\n",
      " [0.00694444 0.00689655 0.00684932 0.00680272 0.00675676 0.00671141\n",
      "  0.00666667 0.00662252 0.00657895 0.00653595]\n",
      " [0.00591716 0.00588235 0.00584795 0.00581395 0.00578035 0.00574713\n",
      "  0.00571429 0.00568182 0.00564972 0.00561798]\n",
      " [0.00510204 0.00507614 0.00505051 0.00502513 0.005      0.00497512\n",
      "  0.0049505  0.00492611 0.00490196 0.00487805]\n",
      " [0.00444444 0.00442478 0.00440529 0.00438596 0.00436681 0.00434783\n",
      "  0.004329   0.00431034 0.00429185 0.0042735 ]\n",
      " [0.00390625 0.00389105 0.00387597 0.003861   0.00384615 0.00383142\n",
      "  0.00381679 0.00380228 0.00378788 0.00377358]\n",
      " [0.00346021 0.00344828 0.00343643 0.00342466 0.00341297 0.00340136\n",
      "  0.00338983 0.00337838 0.003367   0.0033557 ]\n",
      " [0.00308642 0.00307692 0.00306748 0.0030581  0.00304878 0.00303951\n",
      "  0.0030303  0.00302115 0.00301205 0.003003  ]\n",
      " [0.00277008 0.00276243 0.00275482 0.00274725 0.00273973 0.00273224\n",
      "  0.0027248  0.00271739 0.00271003 0.0027027 ]\n",
      " [0.0025     0.00249377 0.00248756 0.00248139 0.00247525 0.00246914\n",
      "  0.00246305 0.002457   0.00245098 0.00244499]]\n"
     ]
    }
   ],
   "source": [
    "num_cols = 10\n",
    "num_fils = 20\n",
    "\n",
    "A = np.array([[1/((i+1)**2+j) for j in range(num_cols)] for i in range(num_fils)])\n",
    "print(A)"
   ]
  },
  {
   "cell_type": "markdown",
   "id": "fb451ed2",
   "metadata": {},
   "source": [
    "## Ejercicio 3\n",
    "\n",
    "Crea un vector con los elementos de la cuarta fila del array `A`."
   ]
  },
  {
   "cell_type": "code",
   "execution_count": 15,
   "id": "c59f6662",
   "metadata": {},
   "outputs": [
    {
     "name": "stdout",
     "output_type": "stream",
     "text": [
      "[0.0625     0.05882353 0.05555556 0.05263158 0.05       0.04761905\n",
      " 0.04545455 0.04347826 0.04166667 0.04      ]\n"
     ]
    }
   ],
   "source": [
    "num_fila = 4\n",
    "\n",
    "fila_buscada = A[num_fila-1]\n",
    "\n",
    "print(fila_buscada)"
   ]
  },
  {
   "cell_type": "markdown",
   "id": "c76d4f19",
   "metadata": {},
   "source": [
    "## Ejercico 4\n",
    "\n",
    "Crea ahora un array `B` de números aleatorios entre $0$ y $1$ de tamaño $5\\times 5$. Calcula $(B + 2I)^{10}$\n",
    "donde $I$ es la matriz identidad de orden 5."
   ]
  },
  {
   "cell_type": "code",
   "execution_count": 45,
   "id": "d0c365ea",
   "metadata": {},
   "outputs": [
    {
     "name": "stdout",
     "output_type": "stream",
     "text": [
      "[[2945100.27773988 3160791.01540197 2519980.20603884 2971893.1731785\n",
      "  1680173.86336709]\n",
      " [3552549.95037549 3813108.61080194 3038215.37688715 3587156.331084\n",
      "  2026962.94497935]\n",
      " [2363771.88081958 2541935.64353478 2032752.12833973 2387415.90501339\n",
      "  1352984.10321294]\n",
      " [1998149.46104959 2136906.60964085 1692957.28948224 2020142.38227523\n",
      "  1131089.2669958 ]\n",
      " [1895328.26878897 2030986.51359426 1614585.8939444  1912860.81906388\n",
      "  1078659.70803754]]\n"
     ]
    }
   ],
   "source": [
    "dim = 5\n",
    "exponent = 10\n",
    "\n",
    "B = np.random.rand(dim,dim)\n",
    "\n",
    "tmp = B + 2*np.eye(dim)\n",
    "sol = np.linalg.matrix_power(tmp, exponent)\n",
    "\n",
    "print(sol)"
   ]
  }
 ],
 "metadata": {
  "kernelspec": {
   "display_name": "Python 3 (ipykernel)",
   "language": "python",
   "name": "python3"
  },
  "language_info": {
   "codemirror_mode": {
    "name": "ipython",
    "version": 3
   },
   "file_extension": ".py",
   "mimetype": "text/x-python",
   "name": "python",
   "nbconvert_exporter": "python",
   "pygments_lexer": "ipython3",
   "version": "3.10.12"
  }
 },
 "nbformat": 4,
 "nbformat_minor": 5
}
